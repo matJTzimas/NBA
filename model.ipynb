{
 "cells": [
  {
   "cell_type": "markdown",
   "metadata": {},
   "source": [
    "# Architecture Modeling"
   ]
  },
  {
   "cell_type": "markdown",
   "metadata": {},
   "source": [
    "Unlike many approaches that predict game outcomes based on historical team data, this approach will be developed with the following key insights:\n",
    "- Individual player statistics provide significant information about overall team performance.\n",
    "- The absence of a team’s best player (e.g., due to injury) must be accounted for, as it can significantly impact the predicted probabilities.\n",
    "- The model will undergo a pre-training phase using pre-game winning odds as the target outcome rather than the actual game result. This is because basketball, as a sport involving human factors, introduces an inherent irreducible error in predictions. Leveraging pre-game odds can help the model identify more meaningful patterns in the data."
   ]
  },
  {
   "cell_type": "markdown",
   "metadata": {},
   "source": []
  }
 ],
 "metadata": {
  "language_info": {
   "name": "python"
  }
 },
 "nbformat": 4,
 "nbformat_minor": 2
}
